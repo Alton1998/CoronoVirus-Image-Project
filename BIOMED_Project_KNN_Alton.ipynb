{
  "cells": [
    {
      "cell_type": "markdown",
      "metadata": {
        "id": "view-in-github",
        "colab_type": "text"
      },
      "source": [
        "<a href=\"https://colab.research.google.com/github/Alton1998/CoronoVirus-Image-Project/blob/main/BIOMED_Project_KNN_Alton.ipynb\" target=\"_parent\"><img src=\"https://colab.research.google.com/assets/colab-badge.svg\" alt=\"Open In Colab\"/></a>"
      ]
    },
    {
      "cell_type": "markdown",
      "metadata": {
        "id": "bfeEA2EmaJA2"
      },
      "source": [
        "# Biomed Project"
      ]
    },
    {
      "cell_type": "markdown",
      "metadata": {
        "id": "7nIqZbRpaSPX"
      },
      "source": [
        "## Installing Library to work with chest xrays.\n"
      ]
    },
    {
      "cell_type": "code",
      "execution_count": 1,
      "metadata": {
        "id": "nn1ejvT0aCv8",
        "outputId": "b1800722-0e86-4d94-93a9-9a7d5b7b5015",
        "colab": {
          "base_uri": "https://localhost:8080/"
        }
      },
      "outputs": [
        {
          "output_type": "stream",
          "name": "stdout",
          "text": [
            "\u001b[2K     \u001b[90m━━━━━━━━━━━━━━━━━━━━━━━━━━━━━━━━━━━━━━━━\u001b[0m \u001b[32m29.0/29.0 MB\u001b[0m \u001b[31m58.1 MB/s\u001b[0m eta \u001b[36m0:00:00\u001b[0m\n",
            "\u001b[?25h"
          ]
        }
      ],
      "source": [
        "!pip -q install torchxrayvision"
      ]
    },
    {
      "cell_type": "code",
      "execution_count": 2,
      "metadata": {
        "id": "kpXTtf30bvCP"
      },
      "outputs": [],
      "source": [
        "import torchxrayvision as xrv\n",
        "import numpy as np\n",
        "import matplotlib.pyplot as plt\n",
        "import os\n",
        "import pandas as pd\n",
        "import cv2\n",
        "import shutil\n",
        "from sklearn.model_selection import train_test_split\n",
        "import torch\n",
        "import torch.nn as nn\n",
        "import torch.nn.functional as F\n",
        "from torch.utils.data import DataLoader, Dataset\n",
        "from torchvision import transforms, datasets, models\n",
        "from torchvision.utils import make_grid\n",
        "from sklearn.metrics import classification_report, confusion_matrix\n",
        "import torch.nn.init as init\n",
        "import torch.optim as optim\n",
        "from torch.utils.data.sampler import *\n",
        "\n",
        "# import torchvision\n",
        "# import torchvision.models as models"
      ]
    },
    {
      "cell_type": "markdown",
      "metadata": {
        "id": "PLSwbnKScEx4"
      },
      "source": [
        "## Downloading covid data set"
      ]
    },
    {
      "cell_type": "code",
      "execution_count": 3,
      "metadata": {
        "colab": {
          "base_uri": "https://localhost:8080/"
        },
        "id": "3GCkl27Bb1d6",
        "outputId": "c0a6056c-480a-4d2e-a861-52fb73dcc0e7"
      },
      "outputs": [
        {
          "output_type": "stream",
          "name": "stdout",
          "text": [
            "Cloning into 'covid-chestxray-dataset'...\n",
            "remote: Enumerating objects: 3641, done.\u001b[K\n",
            "remote: Total 3641 (delta 0), reused 0 (delta 0), pack-reused 3641\u001b[K\n",
            "Receiving objects: 100% (3641/3641), 632.96 MiB | 37.28 MiB/s, done.\n",
            "Resolving deltas: 100% (1450/1450), done.\n",
            "Updating files: 100% (1174/1174), done.\n"
          ]
        }
      ],
      "source": [
        "!git clone https://github.com/ieee8023/covid-chestxray-dataset"
      ]
    },
    {
      "cell_type": "code",
      "execution_count": 4,
      "metadata": {
        "id": "wUOzzpmecnnZ"
      },
      "outputs": [],
      "source": [
        "data = xrv.datasets.COVID19_Dataset(imgpath=\"covid-chestxray-dataset/images/\",csvpath=\"covid-chestxray-dataset/metadata.csv\")"
      ]
    },
    {
      "cell_type": "code",
      "execution_count": 5,
      "metadata": {
        "id": "AkgVMnAANdwm"
      },
      "outputs": [],
      "source": [
        "MAIN_COVID_DATA_PATH = \"covid-chestxray-dataset\"\n",
        "META_DATA_FILE_NAME = \"metadata.csv\""
      ]
    },
    {
      "cell_type": "markdown",
      "metadata": {
        "id": "0IY4QHbOU5ld"
      },
      "source": [
        "In the above data we can see that we have a lot of category of images but for this data set we will focus on Extracting Covid 19 images only"
      ]
    },
    {
      "cell_type": "markdown",
      "metadata": {
        "id": "Rae4aQpOWjMM"
      },
      "source": [
        "## Reading the metadat provided with this data set."
      ]
    },
    {
      "cell_type": "code",
      "execution_count": 6,
      "metadata": {
        "id": "TBG_QHm3Tdr9"
      },
      "outputs": [],
      "source": [
        "META_DATA_FILE_PATH = os.path.join(MAIN_COVID_DATA_PATH,META_DATA_FILE_NAME)"
      ]
    },
    {
      "cell_type": "code",
      "execution_count": 7,
      "metadata": {
        "id": "GwMu5XG3Q-OG"
      },
      "outputs": [],
      "source": [
        "meta_data_df = pd.read_csv(META_DATA_FILE_PATH)\n",
        "FINDINGS_COLUMN = \"finding\""
      ]
    },
    {
      "cell_type": "code",
      "execution_count": 8,
      "metadata": {
        "colab": {
          "base_uri": "https://localhost:8080/"
        },
        "id": "YenfeT6TRSQd",
        "outputId": "2ecdd2da-c440-4b6b-d1f5-cb86335d63b1"
      },
      "outputs": [
        {
          "output_type": "execute_result",
          "data": {
            "text/plain": [
              "array(['Pneumonia/Viral/COVID-19', 'Pneumonia', 'Pneumonia/Viral/SARS',\n",
              "       'Pneumonia/Fungal/Pneumocystis',\n",
              "       'Pneumonia/Bacterial/Streptococcus', 'No Finding',\n",
              "       'Pneumonia/Bacterial/Chlamydophila', 'Pneumonia/Bacterial/E.Coli',\n",
              "       'Pneumonia/Bacterial/Klebsiella', 'Pneumonia/Bacterial/Legionella',\n",
              "       'Unknown', 'Pneumonia/Lipoid', 'Pneumonia/Viral/Varicella',\n",
              "       'Pneumonia/Bacterial', 'Pneumonia/Bacterial/Mycoplasma',\n",
              "       'Pneumonia/Viral/Influenza', 'todo', 'Tuberculosis',\n",
              "       'Pneumonia/Viral/Influenza/H1N1', 'Pneumonia/Fungal/Aspergillosis',\n",
              "       'Pneumonia/Viral/Herpes ', 'Pneumonia/Aspiration',\n",
              "       'Pneumonia/Bacterial/Nocardia', 'Pneumonia/Viral/MERS-CoV',\n",
              "       'Pneumonia/Bacterial/Staphylococcus/MRSA'], dtype=object)"
            ]
          },
          "metadata": {},
          "execution_count": 8
        }
      ],
      "source": [
        "meta_data_df[FINDINGS_COLUMN].unique()"
      ]
    },
    {
      "cell_type": "markdown",
      "metadata": {
        "id": "Jv2W_iXPa0b1"
      },
      "source": [
        "So the finding we have to target is \"Pneumonia/Viral/COVID-19\", lets try and find the count for this data"
      ]
    },
    {
      "cell_type": "code",
      "execution_count": 9,
      "metadata": {
        "colab": {
          "base_uri": "https://localhost:8080/"
        },
        "id": "saYrAN7UZVsv",
        "outputId": "1d812459-d992-4322-d6bd-782aeed06d44"
      },
      "outputs": [
        {
          "output_type": "execute_result",
          "data": {
            "text/plain": [
              "Pneumonia/Viral/COVID-19                   584\n",
              "todo                                        83\n",
              "Pneumonia                                   81\n",
              "Pneumonia/Fungal/Pneumocystis               30\n",
              "Pneumonia/Bacterial/Streptococcus           22\n",
              "No Finding                                  22\n",
              "Tuberculosis                                18\n",
              "Pneumonia/Viral/SARS                        16\n",
              "Pneumonia/Lipoid                            13\n",
              "Pneumonia/Bacterial/Mycoplasma              11\n",
              "Pneumonia/Viral/MERS-CoV                    10\n",
              "Pneumonia/Bacterial/Klebsiella              10\n",
              "Pneumonia/Bacterial/Legionella              10\n",
              "Pneumonia/Bacterial/Nocardia                 8\n",
              "Pneumonia/Viral/Varicella                    6\n",
              "Pneumonia/Viral/Influenza                    5\n",
              "Pneumonia/Bacterial                          4\n",
              "Pneumonia/Bacterial/E.Coli                   4\n",
              "Pneumonia/Viral/Herpes                       3\n",
              "Pneumonia/Bacterial/Chlamydophila            3\n",
              "Pneumonia/Viral/Influenza/H1N1               2\n",
              "Pneumonia/Fungal/Aspergillosis               2\n",
              "Unknown                                      1\n",
              "Pneumonia/Aspiration                         1\n",
              "Pneumonia/Bacterial/Staphylococcus/MRSA      1\n",
              "Name: finding, dtype: int64"
            ]
          },
          "metadata": {},
          "execution_count": 9
        }
      ],
      "source": [
        "meta_data_df[FINDINGS_COLUMN].value_counts()"
      ]
    },
    {
      "cell_type": "markdown",
      "metadata": {
        "id": "1VOjjilObfn2"
      },
      "source": [
        "To make life easier lets create an additional column that makes it much easier to understand"
      ]
    },
    {
      "cell_type": "code",
      "execution_count": 10,
      "metadata": {
        "id": "GxYG83enbUya"
      },
      "outputs": [],
      "source": [
        "meta_data_df[\"simplified-finding\"] = meta_data_df[FINDINGS_COLUMN].apply( lambda x : x.split(\"/\")[-1])"
      ]
    },
    {
      "cell_type": "code",
      "execution_count": 11,
      "metadata": {
        "colab": {
          "base_uri": "https://localhost:8080/",
          "height": 560
        },
        "id": "Ef8BgC-yZKH6",
        "outputId": "365451f7-143b-4500-bf2b-36907447bdb5"
      },
      "outputs": [
        {
          "output_type": "execute_result",
          "data": {
            "text/plain": [
              "<Axes: title={'center': 'Class Distribution'}>"
            ]
          },
          "metadata": {},
          "execution_count": 11
        },
        {
          "output_type": "display_data",
          "data": {
            "text/plain": [
              "<Figure size 640x480 with 1 Axes>"
            ],
            "image/png": "[encoded data removed]"
          },
          "metadata": {}
        }
      ],
      "source": [
        "plt.title(\"Class Distribution\")\n",
        "meta_data_df[\"simplified-finding\"].value_counts().plot(kind=\"bar\")"
      ]
    },
    {
      "cell_type": "markdown",
      "metadata": {
        "id": "id-W_91Xc4Ie"
      },
      "source": [
        "Lets us see the format these images are in"
      ]
    },
    {
      "cell_type": "code",
      "execution_count": 12,
      "metadata": {
        "id": "ooDDF6pgck_t"
      },
      "outputs": [],
      "source": [
        "meta_data_df[\"file-extension\"]=meta_data_df[\"filename\"].apply(lambda x: x.split(\".\")[-1])"
      ]
    },
    {
      "cell_type": "code",
      "execution_count": 13,
      "metadata": {
        "colab": {
          "base_uri": "https://localhost:8080/"
        },
        "id": "K8tyu0AbdgJ9",
        "outputId": "8fd3bc89-bc49-405a-9a2e-dd7f44a2becf"
      },
      "outputs": [
        {
          "output_type": "execute_result",
          "data": {
            "text/plain": [
              "jpg     259\n",
              "png     161\n",
              "jpeg    139\n",
              "gz       21\n",
              "PNG       3\n",
              "JPG       1\n",
              "Name: file-extension, dtype: int64"
            ]
          },
          "metadata": {},
          "execution_count": 13
        }
      ],
      "source": [
        "meta_data_df[meta_data_df[\"simplified-finding\"]==\"COVID-19\"][\"file-extension\"].value_counts()"
      ]
    },
    {
      "cell_type": "code",
      "execution_count": 14,
      "metadata": {
        "colab": {
          "base_uri": "https://localhost:8080/",
          "height": 486
        },
        "id": "C2GKRAj0d7Hx",
        "outputId": "2b9a9553-82ef-49e6-9d37-aa2c2afebd38"
      },
      "outputs": [
        {
          "output_type": "execute_result",
          "data": {
            "text/plain": [
              "<Axes: title={'center': 'File Extensions used for Covid'}>"
            ]
          },
          "metadata": {},
          "execution_count": 14
        },
        {
          "output_type": "display_data",
          "data": {
            "text/plain": [
              "<Figure size 640x480 with 1 Axes>"
            ],
            "image/png": "[encoded data removed]"
          },
          "metadata": {}
        }
      ],
      "source": [
        "plt.title(\"File Extensions used for Covid\")\n",
        "meta_data_df[meta_data_df[\"simplified-finding\"]==\"COVID-19\"][\"file-extension\"].value_counts().plot(kind=\"bar\")"
      ]
    },
    {
      "cell_type": "code",
      "execution_count": 15,
      "metadata": {
        "colab": {
          "base_uri": "https://localhost:8080/"
        },
        "id": "ZOY6wPNzeN5U",
        "outputId": "5ba3e757-0266-4d66-ced7-03f71c65321b"
      },
      "outputs": [
        {
          "output_type": "execute_result",
          "data": {
            "text/plain": [
              "array(['PA', 'AP', 'L', 'Axial', 'AP Supine', 'Coronal', 'AP Erect'],\n",
              "      dtype=object)"
            ]
          },
          "metadata": {},
          "execution_count": 15
        }
      ],
      "source": [
        "meta_data_df['view'].unique()"
      ]
    },
    {
      "cell_type": "markdown",
      "metadata": {
        "id": "mIros5Awoxby"
      },
      "source": [
        "We only care about AP"
      ]
    },
    {
      "cell_type": "markdown",
      "metadata": {
        "id": "htgD806BsJ8x"
      },
      "source": [
        "## Covid DataFrame"
      ]
    },
    {
      "cell_type": "code",
      "execution_count": 16,
      "metadata": {
        "id": "tK6fu5LnnGbn"
      },
      "outputs": [],
      "source": [
        "covid_df = meta_data_df[(meta_data_df[\"simplified-finding\"]==\"COVID-19\") & ((meta_data_df[\"view\"]==\"AP\") | (meta_data_df[\"view\"]==\"AP Supine\"))]"
      ]
    },
    {
      "cell_type": "code",
      "execution_count": 17,
      "metadata": {
        "colab": {
          "base_uri": "https://localhost:8080/"
        },
        "id": "jSSqfzBeAlmk",
        "outputId": "bc9a575a-e37f-4081-ba50-383801f0e7c9"
      },
      "outputs": [
        {
          "output_type": "execute_result",
          "data": {
            "text/plain": [
              "282"
            ]
          },
          "metadata": {},
          "execution_count": 17
        }
      ],
      "source": [
        "len(covid_df)"
      ]
    },
    {
      "cell_type": "code",
      "execution_count": 18,
      "metadata": {
        "id": "xgcc0CJgGthE"
      },
      "outputs": [],
      "source": [
        "covid_df[\"category\"] = covid_df[\"simplified-finding\"]\n",
        "covid_df[\"path\"] = covid_df[\"filename\"].apply(lambda x : os.path.join(\"covid-chestxray-dataset\",\"images\",x))"
      ]
    },
    {
      "cell_type": "code",
      "execution_count": 19,
      "metadata": {
        "id": "huh8bWQnGwRl"
      },
      "outputs": [],
      "source": [
        "covid_df_formatted = covid_df[[\"category\",\"path\"]]"
      ]
    },
    {
      "cell_type": "code",
      "execution_count": 20,
      "metadata": {
        "colab": {
          "base_uri": "https://localhost:8080/",
          "height": 424
        },
        "id": "d6ifPmiLLhe_",
        "outputId": "3f1bcaa7-ea56-456d-cae5-a6f353b27428"
      },
      "outputs": [
        {
          "output_type": "execute_result",
          "data": {
            "text/plain": [
              "     category                                               path\n",
              "34   COVID-19  covid-chestxray-dataset/images/jkms-35-e79-g00...\n",
              "35   COVID-19  covid-chestxray-dataset/images/jkms-35-e79-g00...\n",
              "36   COVID-19  covid-chestxray-dataset/images/jkms-35-e79-g00...\n",
              "40   COVID-19  covid-chestxray-dataset/images/1-s2.0-S0929664...\n",
              "41   COVID-19  covid-chestxray-dataset/images/1-s2.0-S0929664...\n",
              "..        ...                                                ...\n",
              "930  COVID-19       covid-chestxray-dataset/images/16953_1_1.jpg\n",
              "934  COVID-19       covid-chestxray-dataset/images/16892_2_1.png\n",
              "935  COVID-19       covid-chestxray-dataset/images/16883_1_1.png\n",
              "937  COVID-19       covid-chestxray-dataset/images/16858_1_1.png\n",
              "938  COVID-19       covid-chestxray-dataset/images/16858_3_1.png\n",
              "\n",
              "[282 rows x 2 columns]"
            ],
            "text/html": [
              "\n",
              "  <div id=\"df-c295d90d-98c1-4719-b967-4dd92b87f88c\" class=\"colab-df-container\">\n",
              "    <div>\n",
              "<style scoped>\n",
              "    .dataframe tbody tr th:only-of-type {\n",
              "        vertical-align: middle;\n",
              "    }\n",
              "\n",
              "    .dataframe tbody tr th {\n",
              "        vertical-align: top;\n",
              "    }\n",
              "\n",
              "    .dataframe thead th {\n",
              "        text-align: right;\n",
              "    }\n",
              "</style>\n",
              "<table border=\"1\" class=\"dataframe\">\n",
              "  <thead>\n",
              "    <tr style=\"text-align: right;\">\n",
              "      <th></th>\n",
              "      <th>category</th>\n",
              "      <th>path</th>\n",
              "    </tr>\n",
              "  </thead>\n",
              "  <tbody>\n",
              "    <tr>\n",
              "      <th>34</th>\n",
              "      <td>COVID-19</td>\n",
              "      <td>covid-chestxray-dataset/images/jkms-35-e79-g00...</td>\n",
              "    </tr>\n",
              "    <tr>\n",
              "      <th>35</th>\n",
              "      <td>COVID-19</td>\n",
              "      <td>covid-chestxray-dataset/images/jkms-35-e79-g00...</td>\n",
              "    </tr>\n",
              "    <tr>\n",
              "      <th>36</th>\n",
              "      <td>COVID-19</td>\n",
              "      <td>covid-chestxray-dataset/images/jkms-35-e79-g00...</td>\n",
              "    </tr>\n",
              "    <tr>\n",
              "      <th>40</th>\n",
              "      <td>COVID-19</td>\n",
              "      <td>covid-chestxray-dataset/images/1-s2.0-S0929664...</td>\n",
              "    </tr>\n",
              "    <tr>\n",
              "      <th>41</th>\n",
              "      <td>COVID-19</td>\n",
              "      <td>covid-chestxray-dataset/images/1-s2.0-S0929664...</td>\n",
              "    </tr>\n",
              "    <tr>\n",
              "      <th>...</th>\n",
              "      <td>...</td>\n",
              "      <td>...</td>\n",
              "    </tr>\n",
              "    <tr>\n",
              "      <th>930</th>\n",
              "      <td>COVID-19</td>\n",
              "      <td>covid-chestxray-dataset/images/16953_1_1.jpg</td>\n",
              "    </tr>\n",
              "    <tr>\n",
              "      <th>934</th>\n",
              "      <td>COVID-19</td>\n",
              "      <td>covid-chestxray-dataset/images/16892_2_1.png</td>\n",
              "    </tr>\n",
              "    <tr>\n",
              "      <th>935</th>\n",
              "      <td>COVID-19</td>\n",
              "      <td>covid-chestxray-dataset/images/16883_1_1.png</td>\n",
              "    </tr>\n",
              "    <tr>\n",
              "      <th>937</th>\n",
              "      <td>COVID-19</td>\n",
              "      <td>covid-chestxray-dataset/images/16858_1_1.png</td>\n",
              "    </tr>\n",
              "    <tr>\n",
              "      <th>938</th>\n",
              "      <td>COVID-19</td>\n",
              "      <td>covid-chestxray-dataset/images/16858_3_1.png</td>\n",
              "    </tr>\n",
              "  </tbody>\n",
              "</table>\n",
              "<p>282 rows × 2 columns</p>\n",
              "</div>\n",
              "    <div class=\"colab-df-buttons\">\n",
              "\n",
              "  <div class=\"colab-df-container\">\n",
              "    <button class=\"colab-df-convert\" onclick=\"convertToInteractive('df-c295d90d-98c1-4719-b967-4dd92b87f88c')\"\n",
              "            title=\"Convert this dataframe to an interactive table.\"\n",
              "            style=\"display:none;\">\n",
              "\n",
              "  <svg xmlns=\"http://www.w3.org/2000/svg\" height=\"24px\" viewBox=\"0 -960 960 960\">\n",
              "    <path d=\"M120-120v-720h720v720H120Zm60-500h600v-160H180v160Zm220 220h160v-160H400v160Zm0 220h160v-160H400v160ZM180-400h160v-160H180v160Zm440 0h160v-160H620v160ZM180-180h160v-160H180v160Zm440 0h160v-160H620v160Z\"/>\n",
              "  </svg>\n",
              "    </button>\n",
              "\n",
              "  <style>\n",
              "    .colab-df-container {\n",
              "      display:flex;\n",
              "      gap: 12px;\n",
              "    }\n",
              "\n",
              "    .colab-df-convert {\n",
              "      background-color: #E8F0FE;\n",
              "      border: none;\n",
              "      border-radius: 50%;\n",
              "      cursor: pointer;\n",
              "      display: none;\n",
              "      fill: #1967D2;\n",
              "      height: 32px;\n",
              "      padding: 0 0 0 0;\n",
              "      width: 32px;\n",
              "    }\n",
              "\n",
              "    .colab-df-convert:hover {\n",
              "      background-color: #E2EBFA;\n",
              "      box-shadow: 0px 1px 2px rgba(60, 64, 67, 0.3), 0px 1px 3px 1px rgba(60, 64, 67, 0.15);\n",
              "      fill: #174EA6;\n",
              "    }\n",
              "\n",
              "    .colab-df-buttons div {\n",
              "      margin-bottom: 4px;\n",
              "    }\n",
              "\n",
              "    [theme=dark] .colab-df-convert {\n",
              "      background-color: #3B4455;\n",
              "      fill: #D2E3FC;\n",
              "    }\n",
              "\n",
              "    [theme=dark] .colab-df-convert:hover {\n",
              "      background-color: #434B5C;\n",
              "      box-shadow: 0px 1px 3px 1px rgba(0, 0, 0, 0.15);\n",
              "      filter: drop-shadow(0px 1px 2px rgba(0, 0, 0, 0.3));\n",
              "      fill: #FFFFFF;\n",
              "    }\n",
              "  </style>\n",
              "\n",
              "    <script>\n",
              "      const buttonEl =\n",
              "        document.querySelector('#df-c295d90d-98c1-4719-b967-4dd92b87f88c button.colab-df-convert');\n",
              "      buttonEl.style.display =\n",
              "        google.colab.kernel.accessAllowed ? 'block' : 'none';\n",
              "\n",
              "      async function convertToInteractive(key) {\n",
              "        const element = document.querySelector('#df-c295d90d-98c1-4719-b967-4dd92b87f88c');\n",
              "        const dataTable =\n",
              "          await google.colab.kernel.invokeFunction('convertToInteractive',\n",
              "                                                    [key], {});\n",
              "        if (!dataTable) return;\n",
              "\n",
              "        const docLinkHtml = 'Like what you see? Visit the ' +\n",
              "          '<a target=\"_blank\" href=https://colab.research.google.com/notebooks/data_table.ipynb>data table notebook</a>'\n",
              "          + ' to learn more about interactive tables.';\n",
              "        element.innerHTML = '';\n",
              "        dataTable['output_type'] = 'display_data';\n",
              "        await google.colab.output.renderOutput(dataTable, element);\n",
              "        const docLink = document.createElement('div');\n",
              "        docLink.innerHTML = docLinkHtml;\n",
              "        element.appendChild(docLink);\n",
              "      }\n",
              "    </script>\n",
              "  </div>\n",
              "\n",
              "\n",
              "<div id=\"df-dcd62e1f-3f74-4dd4-9b63-b6ce05494456\">\n",
              "  <button class=\"colab-df-quickchart\" onclick=\"quickchart('df-dcd62e1f-3f74-4dd4-9b63-b6ce05494456')\"\n",
              "            title=\"Suggest charts\"\n",
              "            style=\"display:none;\">\n",
              "\n",
              "<svg xmlns=\"http://www.w3.org/2000/svg\" height=\"24px\"viewBox=\"0 0 24 24\"\n",
              "     width=\"24px\">\n",
              "    <g>\n",
              "        <path d=\"M19 3H5c-1.1 0-2 .9-2 2v14c0 1.1.9 2 2 2h14c1.1 0 2-.9 2-2V5c0-1.1-.9-2-2-2zM9 17H7v-7h2v7zm4 0h-2V7h2v10zm4 0h-2v-4h2v4z\"/>\n",
              "    </g>\n",
              "</svg>\n",
              "  </button>\n",
              "\n",
              "<style>\n",
              "  .colab-df-quickchart {\n",
              "      --bg-color: #E8F0FE;\n",
              "      --fill-color: #1967D2;\n",
              "      --hover-bg-color: #E2EBFA;\n",
              "      --hover-fill-color: #174EA6;\n",
              "      --disabled-fill-color: #AAA;\n",
              "      --disabled-bg-color: #DDD;\n",
              "  }\n",
              "\n",
              "  [theme=dark] .colab-df-quickchart {\n",
              "      --bg-color: #3B4455;\n",
              "      --fill-color: #D2E3FC;\n",
              "      --hover-bg-color: #434B5C;\n",
              "      --hover-fill-color: #FFFFFF;\n",
              "      --disabled-bg-color: #3B4455;\n",
              "      --disabled-fill-color: #666;\n",
              "  }\n",
              "\n",
              "  .colab-df-quickchart {\n",
              "    background-color: var(--bg-color);\n",
              "    border: none;\n",
              "    border-radius: 50%;\n",
              "    cursor: pointer;\n",
              "    display: none;\n",
              "    fill: var(--fill-color);\n",
              "    height: 32px;\n",
              "    padding: 0;\n",
              "    width: 32px;\n",
              "  }\n",
              "\n",
              "  .colab-df-quickchart:hover {\n",
              "    background-color: var(--hover-bg-color);\n",
              "    box-shadow: 0 1px 2px rgba(60, 64, 67, 0.3), 0 1px 3px 1px rgba(60, 64, 67, 0.15);\n",
              "    fill: var(--button-hover-fill-color);\n",
              "  }\n",
              "\n",
              "  .colab-df-quickchart-complete:disabled,\n",
              "  .colab-df-quickchart-complete:disabled:hover {\n",
              "    background-color: var(--disabled-bg-color);\n",
              "    fill: var(--disabled-fill-color);\n",
              "    box-shadow: none;\n",
              "  }\n",
              "\n",
              "  .colab-df-spinner {\n",
              "    border: 2px solid var(--fill-color);\n",
              "    border-color: transparent;\n",
              "    border-bottom-color: var(--fill-color);\n",
              "    animation:\n",
              "      spin 1s steps(1) infinite;\n",
              "  }\n",
              "\n",
              "  @keyframes spin {\n",
              "    0% {\n",
              "      border-color: transparent;\n",
              "      border-bottom-color: var(--fill-color);\n",
              "      border-left-color: var(--fill-color);\n",
              "    }\n",
              "    20% {\n",
              "      border-color: transparent;\n",
              "      border-left-color: var(--fill-color);\n",
              "      border-top-color: var(--fill-color);\n",
              "    }\n",
              "    30% {\n",
              "      border-color: transparent;\n",
              "      border-left-color: var(--fill-color);\n",
              "      border-top-color: var(--fill-color);\n",
              "      border-right-color: var(--fill-color);\n",
              "    }\n",
              "    40% {\n",
              "      border-color: transparent;\n",
              "      border-right-color: var(--fill-color);\n",
              "      border-top-color: var(--fill-color);\n",
              "    }\n",
              "    60% {\n",
              "      border-color: transparent;\n",
              "      border-right-color: var(--fill-color);\n",
              "    }\n",
              "    80% {\n",
              "      border-color: transparent;\n",
              "      border-right-color: var(--fill-color);\n",
              "      border-bottom-color: var(--fill-color);\n",
              "    }\n",
              "    90% {\n",
              "      border-color: transparent;\n",
              "      border-bottom-color: var(--fill-color);\n",
              "    }\n",
              "  }\n",
              "</style>\n",
              "\n",
              "  <script>\n",
              "    async function quickchart(key) {\n",
              "      const quickchartButtonEl =\n",
              "        document.querySelector('#' + key + ' button');\n",
              "      quickchartButtonEl.disabled = true;  // To prevent multiple clicks.\n",
              "      quickchartButtonEl.classList.add('colab-df-spinner');\n",
              "      try {\n",
              "        const charts = await google.colab.kernel.invokeFunction(\n",
              "            'suggestCharts', [key], {});\n",
              "      } catch (error) {\n",
              "        console.error('Error during call to suggestCharts:', error);\n",
              "      }\n",
              "      quickchartButtonEl.classList.remove('colab-df-spinner');\n",
              "      quickchartButtonEl.classList.add('colab-df-quickchart-complete');\n",
              "    }\n",
              "    (() => {\n",
              "      let quickchartButtonEl =\n",
              "        document.querySelector('#df-dcd62e1f-3f74-4dd4-9b63-b6ce05494456 button');\n",
              "      quickchartButtonEl.style.display =\n",
              "        google.colab.kernel.accessAllowed ? 'block' : 'none';\n",
              "    })();\n",
              "  </script>\n",
              "</div>\n",
              "    </div>\n",
              "  </div>\n"
            ]
          },
          "metadata": {},
          "execution_count": 20
        }
      ],
      "source": [
        "covid_df_formatted"
      ]
    },
    {
      "cell_type": "markdown",
      "metadata": {
        "id": "ySqwlHdTq3v8"
      },
      "source": [
        "So now we have the covid data we are interested in, we need now  Normal and Bacterial Data"
      ]
    },
    {
      "cell_type": "markdown",
      "metadata": {
        "id": "ZyOde3TNsPHl"
      },
      "source": [
        "## Installing Kaggle Libraries to Download data from Kaggle"
      ]
    },
    {
      "cell_type": "code",
      "execution_count": 21,
      "metadata": {
        "id": "h_s0Fxh4cUSC"
      },
      "outputs": [],
      "source": [
        "!pip install -q kaggle"
      ]
    },
    {
      "cell_type": "code",
      "execution_count": 22,
      "metadata": {
        "id": "uy9kEVYItUuh"
      },
      "outputs": [],
      "source": [
        "from google.colab import files"
      ]
    },
    {
      "cell_type": "markdown",
      "metadata": {
        "id": "mJGjDH2Xyudn"
      },
      "source": [
        "## Uploading Creds for use"
      ]
    },
    {
      "cell_type": "code",
      "execution_count": 23,
      "metadata": {
        "colab": {
          "base_uri": "https://localhost:8080/",
          "height": 92
        },
        "id": "CqdnkViOyt5L",
        "outputId": "9e3c24a0-c3b0-4174-bc11-fa7556999f75"
      },
      "outputs": [
        {
          "output_type": "display_data",
          "data": {
            "text/plain": [
              "<IPython.core.display.HTML object>"
            ],
            "text/html": [
              "\n",
              "     <input type=\"file\" id=\"files-9e5d3a21-a2e7-4dec-a965-ae7c340a46be\" name=\"files[]\" multiple disabled\n",
              "        style=\"border:none\" />\n",
              "     <output id=\"result-9e5d3a21-a2e7-4dec-a965-ae7c340a46be\">\n",
              "      Upload widget is only available when the cell has been executed in the\n",
              "      current browser session. Please rerun this cell to enable.\n",
              "      </output>\n",
              "      <script>// Copyright 2017 Google LLC\n",
              "//\n",
              "// Licensed under the Apache License, Version 2.0 (the \"License\");\n",
              "// you may not use this file except in compliance with the License.\n",
              "// You may obtain a copy of the License at\n",
              "//\n",
              "//      http://www.apache.org/licenses/LICENSE-2.0\n",
              "//\n",
              "// Unless required by applicable law or agreed to in writing, software\n",
              "// distributed under the License is distributed on an \"AS IS\" BASIS,\n",
              "// WITHOUT WARRANTIES OR CONDITIONS OF ANY KIND, either express or implied.\n",
              "// See the License for the specific language governing permissions and\n",
              "// limitations under the License.\n",
              "\n",
              "/**\n",
              " * @fileoverview Helpers for google.colab Python module.\n",
              " */\n",
              "(function(scope) {\n",
              "function span(text, styleAttributes = {}) {\n",
              "  const element = document.createElement('span');\n",
              "  element.textContent = text;\n",
              "  for (const key of Object.keys(styleAttributes)) {\n",
              "    element.style[key] = styleAttributes[key];\n",
              "  }\n",
              "  return element;\n",
              "}\n",
              "\n",
              "// Max number of bytes which will be uploaded at a time.\n",
              "const MAX_PAYLOAD_SIZE = 100 * 1024;\n",
              "\n",
              "function _uploadFiles(inputId, outputId) {\n",
              "  const steps = uploadFilesStep(inputId, outputId);\n",
              "  const outputElement = document.getElementById(outputId);\n",
              "  // Cache steps on the outputElement to make it available for the next call\n",
              "  // to uploadFilesContinue from Python.\n",
              "  outputElement.steps = steps;\n",
              "\n",
              "  return _uploadFilesContinue(outputId);\n",
              "}\n",
              "\n",
              "// This is roughly an async generator (not supported in the browser yet),\n",
              "// where there are multiple asynchronous steps and the Python side is going\n",
              "// to poll for completion of each step.\n",
              "// This uses a Promise to block the python side on completion of each step,\n",
              "// then passes the result of the previous step as the input to the next step.\n",
              "function _uploadFilesContinue(outputId) {\n",
              "  const outputElement = document.getElementById(outputId);\n",
              "  const steps = outputElement.steps;\n",
              "\n",
              "  const next = steps.next(outputElement.lastPromiseValue);\n",
              "  return Promise.resolve(next.value.promise).then((value) => {\n",
              "    // Cache the last promise value to make it available to the next\n",
              "    // step of the generator.\n",
              "    outputElement.lastPromiseValue = value;\n",
              "    return next.value.response;\n",
              "  });\n",
              "}\n",
              "\n",
              "/**\n",
              " * Generator function which is called between each async step of the upload\n",
              " * process.\n",
              " * @param {string} inputId Element ID of the input file picker element.\n",
              " * @param {string} outputId Element ID of the output display.\n",
              " * @return {!Iterable<!Object>} Iterable of next steps.\n",
              " */\n",
              "function* uploadFilesStep(inputId, outputId) {\n",
              "  const inputElement = document.getElementById(inputId);\n",
              "  inputElement.disabled = false;\n",
              "\n",
              "  const outputElement = document.getElementById(outputId);\n",
              "  outputElement.innerHTML = '';\n",
              "\n",
              "  const pickedPromise = new Promise((resolve) => {\n",
              "    inputElement.addEventListener('change', (e) => {\n",
              "      resolve(e.target.files);\n",
              "    });\n",
              "  });\n",
              "\n",
              "  const cancel = document.createElement('button');\n",
              "  inputElement.parentElement.appendChild(cancel);\n",
              "  cancel.textContent = 'Cancel upload';\n",
              "  const cancelPromise = new Promise((resolve) => {\n",
              "    cancel.onclick = () => {\n",
              "      resolve(null);\n",
              "    };\n",
              "  });\n",
              "\n",
              "  // Wait for the user to pick the files.\n",
              "  const files = yield {\n",
              "    promise: Promise.race([pickedPromise, cancelPromise]),\n",
              "    response: {\n",
              "      action: 'starting',\n",
              "    }\n",
              "  };\n",
              "\n",
              "  cancel.remove();\n",
              "\n",
              "  // Disable the input element since further picks are not allowed.\n",
              "  inputElement.disabled = true;\n",
              "\n",
              "  if (!files) {\n",
              "    return {\n",
              "      response: {\n",
              "        action: 'complete',\n",
              "      }\n",
              "    };\n",
              "  }\n",
              "\n",
              "  for (const file of files) {\n",
              "    const li = document.createElement('li');\n",
              "    li.append(span(file.name, {fontWeight: 'bold'}));\n",
              "    li.append(span(\n",
              "        `(${file.type || 'n/a'}) - ${file.size} bytes, ` +\n",
              "        `last modified: ${\n",
              "            file.lastModifiedDate ? file.lastModifiedDate.toLocaleDateString() :\n",
              "                                    'n/a'} - `));\n",
              "    const percent = span('0% done');\n",
              "    li.appendChild(percent);\n",
              "\n",
              "    outputElement.appendChild(li);\n",
              "\n",
              "    const fileDataPromise = new Promise((resolve) => {\n",
              "      const reader = new FileReader();\n",
              "      reader.onload = (e) => {\n",
              "        resolve(e.target.result);\n",
              "      };\n",
              "      reader.readAsArrayBuffer(file);\n",
              "    });\n",
              "    // Wait for the data to be ready.\n",
              "    let fileData = yield {\n",
              "      promise: fileDataPromise,\n",
              "      response: {\n",
              "        action: 'continue',\n",
              "      }\n",
              "    };\n",
              "\n",
              "    // Use a chunked sending to avoid message size limits. See b/62115660.\n",
              "    let position = 0;\n",
              "    do {\n",
              "      const length = Math.min(fileData.byteLength - position, MAX_PAYLOAD_SIZE);\n",
              "      const chunk = new Uint8Array(fileData, position, length);\n",
              "      position += length;\n",
              "\n",
              "      const base64 = btoa(String.fromCharCode.apply(null, chunk));\n",
              "      yield {\n",
              "        response: {\n",
              "          action: 'append',\n",
              "          file: file.name,\n",
              "          data: base64,\n",
              "        },\n",
              "      };\n",
              "\n",
              "      let percentDone = fileData.byteLength === 0 ?\n",
              "          100 :\n",
              "          Math.round((position / fileData.byteLength) * 100);\n",
              "      percent.textContent = `${percentDone}% done`;\n",
              "\n",
              "    } while (position < fileData.byteLength);\n",
              "  }\n",
              "\n",
              "  // All done.\n",
              "  yield {\n",
              "    response: {\n",
              "      action: 'complete',\n",
              "    }\n",
              "  };\n",
              "}\n",
              "\n",
              "scope.google = scope.google || {};\n",
              "scope.google.colab = scope.google.colab || {};\n",
              "scope.google.colab._files = {\n",
              "  _uploadFiles,\n",
              "  _uploadFilesContinue,\n",
              "};\n",
              "})(self);\n",
              "</script> "
            ]
          },
          "metadata": {}
        },
        {
          "output_type": "stream",
          "name": "stdout",
          "text": [
            "Saving kaggle.json to kaggle.json\n"
          ]
        },
        {
          "output_type": "execute_result",
          "data": {
            "text/plain": [
              "{'kaggle.json': b'{\"username\":\"naveenamagesbaboo\",\"key\":\"46f8780f5c42519b041726d591992588\"}'}"
            ]
          },
          "metadata": {},
          "execution_count": 23
        }
      ],
      "source": [
        "files.upload()"
      ]
    },
    {
      "cell_type": "markdown",
      "metadata": {
        "id": "kp8Ki6gKzTGw"
      },
      "source": [
        "## Creating Kaggle Directory to Store Credentials"
      ]
    },
    {
      "cell_type": "code",
      "execution_count": 24,
      "metadata": {
        "id": "N3kpiVYtEsAI",
        "outputId": "fd9efae9-a9ec-4b29-826b-96c8c066bef9",
        "colab": {
          "base_uri": "https://localhost:8080/",
          "height": 35
        }
      },
      "outputs": [
        {
          "output_type": "execute_result",
          "data": {
            "text/plain": [
              "'/content'"
            ],
            "application/vnd.google.colaboratory.intrinsic+json": {
              "type": "string"
            }
          },
          "metadata": {},
          "execution_count": 24
        }
      ],
      "source": [
        "os.getcwd()\n"
      ]
    },
    {
      "cell_type": "code",
      "execution_count": 25,
      "metadata": {
        "id": "9hr5wJ2mzGuc"
      },
      "outputs": [],
      "source": [
        "!mkdir ~/.kaggle"
      ]
    },
    {
      "cell_type": "code",
      "execution_count": 26,
      "metadata": {
        "id": "Al915zomzj2b"
      },
      "outputs": [],
      "source": [
        "! cp kaggle.json ~/.kaggle/"
      ]
    },
    {
      "cell_type": "code",
      "execution_count": 27,
      "metadata": {
        "id": "xQl2KlSH1-SM"
      },
      "outputs": [],
      "source": [
        "! chmod 600 ~/.kaggle/kaggle.json"
      ]
    },
    {
      "cell_type": "code",
      "execution_count": 28,
      "metadata": {
        "id": "q43s2n4cJpd8",
        "outputId": "e5b8612f-fc89-41b4-a23f-3be07ed16de6",
        "colab": {
          "base_uri": "https://localhost:8080/"
        }
      },
      "outputs": [
        {
          "output_type": "stream",
          "name": "stdout",
          "text": [
            "ref                                                     title                                        size  lastUpdated          downloadCount  voteCount  usabilityRating  \n",
            "------------------------------------------------------  ------------------------------------------  -----  -------------------  -------------  ---------  ---------------  \n",
            "thedrcat/daigt-v2-train-dataset                         DAIGT V2 Train Dataset                       29MB  2023-11-16 01:38:36           1346        143  1.0              \n",
            "muhammadbinimran/housing-price-prediction-data          Housing Price Prediction Data               763KB  2023-11-21 17:56:32           5640        100  1.0              \n",
            "fatihilhan/global-superstore-dataset                    Global Superstore Dataset                     3MB  2023-11-16 11:58:36           1656         30  1.0              \n",
            "joebeachcapital/30000-spotify-songs                     30000 Spotify Songs                           3MB  2023-11-01 06:06:43          10583        225  1.0              \n",
            "fatihilhan/electric-vehicle-specifications-and-prices   Electric Vehicle Specifications and Prices   10KB  2023-11-28 08:39:43            952         25  1.0              \n",
            "thedrcat/daigt-proper-train-dataset                     DAIGT Proper Train Dataset                  119MB  2023-11-05 14:03:25           1517        137  1.0              \n",
            "m000sey/save-the-honey-bees                             🍯 Save the bees 🐝                            34KB  2023-12-06 18:05:21            792         31  1.0              \n",
            "carlmcbrideellis/llm-7-prompt-training-dataset          LLM: 7 prompt training dataset               41MB  2023-11-15 07:32:56           1539        115  1.0              \n",
            "thedevastator/netflix-imdb-scores                       Netflix IMDB Scores                         699KB  2023-12-03 14:10:34           1567         28  1.0              \n",
            "youssefaboelwafa/hotel-booking-cancellation-prediction  Hotel Booking Cancellation Prediction       470KB  2023-12-03 01:54:35            907         27  1.0              \n",
            "ddosad/auto-sales-data                                  Automobile Sales data                        79KB  2023-11-18 12:36:41           4339         76  1.0              \n",
            "nelgiriyewithana/world-educational-data                 World Educational Data                        9KB  2023-11-04 06:10:17           8344        168  1.0              \n",
            "alessiasimone/lego-sets-and-price-1955-2023             Lego sets and price [1955 - 2023]            30MB  2023-11-17 17:48:15           1016         25  1.0              \n",
            "julnazz/diabetes-health-indicators-dataset              Diabetes Health Indicators Dataset            5MB  2023-11-27 07:10:53           1146         31  1.0              \n",
            "jacksondivakarr/laptop-price-prediction-dataset         Laptop Price Prediction Dataset             119KB  2023-11-30 16:23:34           1021         33  1.0              \n",
            "thedevastator/bank-term-deposit-predictions             Bank Term Deposit Predictions               541KB  2023-11-30 14:37:39           1052         35  1.0              \n",
            "jacksondivakarr/online-shopping-dataset                 🛒 Online Shopping Dataset 📊📉📈                 5MB  2023-11-12 12:35:58           4468         80  1.0              \n",
            "jacksondivakarr/student-classification-dataset          Student Classification Dataset               15KB  2023-12-02 16:23:43            878         24  1.0              \n",
            "syedanwarafridi/earthquake-events-worldwide-2023        Earthquake Events Worldwide 2023            789KB  2023-11-23 08:58:49            730         22  1.0              \n",
            "nelgiriyewithana/australian-vehicle-prices              Australian Vehicle Prices                   582KB  2023-11-27 04:51:30           1332         45  1.0              \n"
          ]
        }
      ],
      "source": [
        "! kaggle datasets list"
      ]
    },
    {
      "cell_type": "code",
      "execution_count": 29,
      "metadata": {
        "id": "v5pKzeFDJ6DK",
        "outputId": "b044c681-4cb2-4b2f-f269-e166407fff03",
        "colab": {
          "base_uri": "https://localhost:8080/"
        }
      },
      "outputs": [
        {
          "output_type": "stream",
          "name": "stdout",
          "text": [
            "Downloading chest-xray-pneumonia.zip to /content\n",
            " 99% 2.28G/2.29G [00:19<00:00, 184MB/s]\n",
            "100% 2.29G/2.29G [00:19<00:00, 126MB/s]\n"
          ]
        }
      ],
      "source": [
        "! kaggle datasets download -d paultimothymooney/chest-xray-pneumonia"
      ]
    },
    {
      "cell_type": "markdown",
      "metadata": {
        "id": "F4beLrkY2uyu"
      },
      "source": [
        "## Unzipping the file so its easy to consume"
      ]
    },
    {
      "cell_type": "code",
      "execution_count": 30,
      "metadata": {
        "id": "OPVOVbc02uFx"
      },
      "outputs": [],
      "source": [
        "!unzip  -q chest-xray-pneumonia.zip -d chest-xray-pneumonia"
      ]
    },
    {
      "cell_type": "markdown",
      "metadata": {
        "id": "7bxLOO7h5EJH"
      },
      "source": [
        "## Traversing chest-xray-pneumonia to get the paths so that we can put that in a data frame and use later"
      ]
    },
    {
      "cell_type": "code",
      "execution_count": 31,
      "metadata": {
        "id": "xDwXcArN5BeN"
      },
      "outputs": [],
      "source": [
        "FOLDERS = [\"test\",\"train\",\"val\"]\n",
        "categories = []\n",
        "image_paths = []\n",
        "for folder in FOLDERS:\n",
        "  path = os.path.join(\"chest-xray-pneumonia\",\"chest_xray\",folder)\n",
        "  for currentpath, folders, files in os.walk(path):\n",
        "      for file in files:\n",
        "        path = os.path.join(currentpath,file)\n",
        "        image_paths.append(path)\n",
        "        category = path.split(\"/\")[3]\n",
        "        categories.append(category)\n"
      ]
    },
    {
      "cell_type": "code",
      "execution_count": 32,
      "metadata": {
        "id": "XfEYV_Ba_dv1"
      },
      "outputs": [],
      "source": [
        "chest_xray_df = pd.DataFrame({\"category\":categories,\"path\":image_paths})"
      ]
    },
    {
      "cell_type": "code",
      "execution_count": 33,
      "metadata": {
        "id": "UT12HhClAEv-",
        "outputId": "9ea9c32b-e473-4cdc-9105-fd3144a3dfb7",
        "colab": {
          "base_uri": "https://localhost:8080/"
        }
      },
      "outputs": [
        {
          "output_type": "execute_result",
          "data": {
            "text/plain": [
              "PNEUMONIA    4273\n",
              "NORMAL       1583\n",
              "Name: category, dtype: int64"
            ]
          },
          "metadata": {},
          "execution_count": 33
        }
      ],
      "source": [
        "chest_xray_df[\"category\"].value_counts()"
      ]
    },
    {
      "cell_type": "markdown",
      "metadata": {
        "id": "_HnMeiFKAur1"
      },
      "source": [
        "## Combining out Covid and Chest Xrays"
      ]
    },
    {
      "cell_type": "code",
      "execution_count": 34,
      "metadata": {
        "id": "gz2iGjGbAt2h"
      },
      "outputs": [],
      "source": [
        "final_data = pd.concat([covid_df_formatted,chest_xray_df])"
      ]
    },
    {
      "cell_type": "code",
      "execution_count": 35,
      "metadata": {
        "id": "USuUwkoBnTwB",
        "outputId": "2f25ae12-c8dd-4f9b-f48f-443267b06155",
        "colab": {
          "base_uri": "https://localhost:8080/",
          "height": 424
        }
      },
      "outputs": [
        {
          "output_type": "execute_result",
          "data": {
            "text/plain": [
              "       category                                               path\n",
              "34     COVID-19  covid-chestxray-dataset/images/jkms-35-e79-g00...\n",
              "35     COVID-19  covid-chestxray-dataset/images/jkms-35-e79-g00...\n",
              "36     COVID-19  covid-chestxray-dataset/images/jkms-35-e79-g00...\n",
              "40     COVID-19  covid-chestxray-dataset/images/1-s2.0-S0929664...\n",
              "41     COVID-19  covid-chestxray-dataset/images/1-s2.0-S0929664...\n",
              "...         ...                                                ...\n",
              "5851  PNEUMONIA  chest-xray-pneumonia/chest_xray/val/PNEUMONIA/...\n",
              "5852  PNEUMONIA  chest-xray-pneumonia/chest_xray/val/PNEUMONIA/...\n",
              "5853  PNEUMONIA  chest-xray-pneumonia/chest_xray/val/PNEUMONIA/...\n",
              "5854  PNEUMONIA  chest-xray-pneumonia/chest_xray/val/PNEUMONIA/...\n",
              "5855  PNEUMONIA  chest-xray-pneumonia/chest_xray/val/PNEUMONIA/...\n",
              "\n",
              "[6138 rows x 2 columns]"
            ],
            "text/html": [
              "\n",
              "  <div id=\"df-d1977b63-3946-442a-84b6-cc447ddbcb0e\" class=\"colab-df-container\">\n",
              "    <div>\n",
              "<style scoped>\n",
              "    .dataframe tbody tr th:only-of-type {\n",
              "        vertical-align: middle;\n",
              "    }\n",
              "\n",
              "    .dataframe tbody tr th {\n",
              "        vertical-align: top;\n",
              "    }\n",
              "\n",
              "    .dataframe thead th {\n",
              "        text-align: right;\n",
              "    }\n",
              "</style>\n",
              "<table border=\"1\" class=\"dataframe\">\n",
              "  <thead>\n",
              "    <tr style=\"text-align: right;\">\n",
              "      <th></th>\n",
              "      <th>category</th>\n",
              "      <th>path</th>\n",
              "    </tr>\n",
              "  </thead>\n",
              "  <tbody>\n",
              "    <tr>\n",
              "      <th>34</th>\n",
              "      <td>COVID-19</td>\n",
              "      <td>covid-chestxray-dataset/images/jkms-35-e79-g00...</td>\n",
              "    </tr>\n",
              "    <tr>\n",
              "      <th>35</th>\n",
              "      <td>COVID-19</td>\n",
              "      <td>covid-chestxray-dataset/images/jkms-35-e79-g00...</td>\n",
              "    </tr>\n",
              "    <tr>\n",
              "      <th>36</th>\n",
              "      <td>COVID-19</td>\n",
              "      <td>covid-chestxray-dataset/images/jkms-35-e79-g00...</td>\n",
              "    </tr>\n",
              "    <tr>\n",
              "      <th>40</th>\n",
              "      <td>COVID-19</td>\n",
              "      <td>covid-chestxray-dataset/images/1-s2.0-S0929664...</td>\n",
              "    </tr>\n",
              "    <tr>\n",
              "      <th>41</th>\n",
              "      <td>COVID-19</td>\n",
              "      <td>covid-chestxray-dataset/images/1-s2.0-S0929664...</td>\n",
              "    </tr>\n",
              "    <tr>\n",
              "      <th>...</th>\n",
              "      <td>...</td>\n",
              "      <td>...</td>\n",
              "    </tr>\n",
              "    <tr>\n",
              "      <th>5851</th>\n",
              "      <td>PNEUMONIA</td>\n",
              "      <td>chest-xray-pneumonia/chest_xray/val/PNEUMONIA/...</td>\n",
              "    </tr>\n",
              "    <tr>\n",
              "      <th>5852</th>\n",
              "      <td>PNEUMONIA</td>\n",
              "      <td>chest-xray-pneumonia/chest_xray/val/PNEUMONIA/...</td>\n",
              "    </tr>\n",
              "    <tr>\n",
              "      <th>5853</th>\n",
              "      <td>PNEUMONIA</td>\n",
              "      <td>chest-xray-pneumonia/chest_xray/val/PNEUMONIA/...</td>\n",
              "    </tr>\n",
              "    <tr>\n",
              "      <th>5854</th>\n",
              "      <td>PNEUMONIA</td>\n",
              "      <td>chest-xray-pneumonia/chest_xray/val/PNEUMONIA/...</td>\n",
              "    </tr>\n",
              "    <tr>\n",
              "      <th>5855</th>\n",
              "      <td>PNEUMONIA</td>\n",
              "      <td>chest-xray-pneumonia/chest_xray/val/PNEUMONIA/...</td>\n",
              "    </tr>\n",
              "  </tbody>\n",
              "</table>\n",
              "<p>6138 rows × 2 columns</p>\n",
              "</div>\n",
              "    <div class=\"colab-df-buttons\">\n",
              "\n",
              "  <div class=\"colab-df-container\">\n",
              "    <button class=\"colab-df-convert\" onclick=\"convertToInteractive('df-d1977b63-3946-442a-84b6-cc447ddbcb0e')\"\n",
              "            title=\"Convert this dataframe to an interactive table.\"\n",
              "            style=\"display:none;\">\n",
              "\n",
              "  <svg xmlns=\"http://www.w3.org/2000/svg\" height=\"24px\" viewBox=\"0 -960 960 960\">\n",
              "    <path d=\"M120-120v-720h720v720H120Zm60-500h600v-160H180v160Zm220 220h160v-160H400v160Zm0 220h160v-160H400v160ZM180-400h160v-160H180v160Zm440 0h160v-160H620v160ZM180-180h160v-160H180v160Zm440 0h160v-160H620v160Z\"/>\n",
              "  </svg>\n",
              "    </button>\n",
              "\n",
              "  <style>\n",
              "    .colab-df-container {\n",
              "      display:flex;\n",
              "      gap: 12px;\n",
              "    }\n",
              "\n",
              "    .colab-df-convert {\n",
              "      background-color: #E8F0FE;\n",
              "      border: none;\n",
              "      border-radius: 50%;\n",
              "      cursor: pointer;\n",
              "      display: none;\n",
              "      fill: #1967D2;\n",
              "      height: 32px;\n",
              "      padding: 0 0 0 0;\n",
              "      width: 32px;\n",
              "    }\n",
              "\n",
              "    .colab-df-convert:hover {\n",
              "      background-color: #E2EBFA;\n",
              "      box-shadow: 0px 1px 2px rgba(60, 64, 67, 0.3), 0px 1px 3px 1px rgba(60, 64, 67, 0.15);\n",
              "      fill: #174EA6;\n",
              "    }\n",
              "\n",
              "    .colab-df-buttons div {\n",
              "      margin-bottom: 4px;\n",
              "    }\n",
              "\n",
              "    [theme=dark] .colab-df-convert {\n",
              "      background-color: #3B4455;\n",
              "      fill: #D2E3FC;\n",
              "    }\n",
              "\n",
              "    [theme=dark] .colab-df-convert:hover {\n",
              "      background-color: #434B5C;\n",
              "      box-shadow: 0px 1px 3px 1px rgba(0, 0, 0, 0.15);\n",
              "      filter: drop-shadow(0px 1px 2px rgba(0, 0, 0, 0.3));\n",
              "      fill: #FFFFFF;\n",
              "    }\n",
              "  </style>\n",
              "\n",
              "    <script>\n",
              "      const buttonEl =\n",
              "        document.querySelector('#df-d1977b63-3946-442a-84b6-cc447ddbcb0e button.colab-df-convert');\n",
              "      buttonEl.style.display =\n",
              "        google.colab.kernel.accessAllowed ? 'block' : 'none';\n",
              "\n",
              "      async function convertToInteractive(key) {\n",
              "        const element = document.querySelector('#df-d1977b63-3946-442a-84b6-cc447ddbcb0e');\n",
              "        const dataTable =\n",
              "          await google.colab.kernel.invokeFunction('convertToInteractive',\n",
              "                                                    [key], {});\n",
              "        if (!dataTable) return;\n",
              "\n",
              "        const docLinkHtml = 'Like what you see? Visit the ' +\n",
              "          '<a target=\"_blank\" href=https://colab.research.google.com/notebooks/data_table.ipynb>data table notebook</a>'\n",
              "          + ' to learn more about interactive tables.';\n",
              "        element.innerHTML = '';\n",
              "        dataTable['output_type'] = 'display_data';\n",
              "        await google.colab.output.renderOutput(dataTable, element);\n",
              "        const docLink = document.createElement('div');\n",
              "        docLink.innerHTML = docLinkHtml;\n",
              "        element.appendChild(docLink);\n",
              "      }\n",
              "    </script>\n",
              "  </div>\n",
              "\n",
              "\n",
              "<div id=\"df-103c6b47-1617-4d96-8e4e-153171954183\">\n",
              "  <button class=\"colab-df-quickchart\" onclick=\"quickchart('df-103c6b47-1617-4d96-8e4e-153171954183')\"\n",
              "            title=\"Suggest charts\"\n",
              "            style=\"display:none;\">\n",
              "\n",
              "<svg xmlns=\"http://www.w3.org/2000/svg\" height=\"24px\"viewBox=\"0 0 24 24\"\n",
              "     width=\"24px\">\n",
              "    <g>\n",
              "        <path d=\"M19 3H5c-1.1 0-2 .9-2 2v14c0 1.1.9 2 2 2h14c1.1 0 2-.9 2-2V5c0-1.1-.9-2-2-2zM9 17H7v-7h2v7zm4 0h-2V7h2v10zm4 0h-2v-4h2v4z\"/>\n",
              "    </g>\n",
              "</svg>\n",
              "  </button>\n",
              "\n",
              "<style>\n",
              "  .colab-df-quickchart {\n",
              "      --bg-color: #E8F0FE;\n",
              "      --fill-color: #1967D2;\n",
              "      --hover-bg-color: #E2EBFA;\n",
              "      --hover-fill-color: #174EA6;\n",
              "      --disabled-fill-color: #AAA;\n",
              "      --disabled-bg-color: #DDD;\n",
              "  }\n",
              "\n",
              "  [theme=dark] .colab-df-quickchart {\n",
              "      --bg-color: #3B4455;\n",
              "      --fill-color: #D2E3FC;\n",
              "      --hover-bg-color: #434B5C;\n",
              "      --hover-fill-color: #FFFFFF;\n",
              "      --disabled-bg-color: #3B4455;\n",
              "      --disabled-fill-color: #666;\n",
              "  }\n",
              "\n",
              "  .colab-df-quickchart {\n",
              "    background-color: var(--bg-color);\n",
              "    border: none;\n",
              "    border-radius: 50%;\n",
              "    cursor: pointer;\n",
              "    display: none;\n",
              "    fill: var(--fill-color);\n",
              "    height: 32px;\n",
              "    padding: 0;\n",
              "    width: 32px;\n",
              "  }\n",
              "\n",
              "  .colab-df-quickchart:hover {\n",
              "    background-color: var(--hover-bg-color);\n",
              "    box-shadow: 0 1px 2px rgba(60, 64, 67, 0.3), 0 1px 3px 1px rgba(60, 64, 67, 0.15);\n",
              "    fill: var(--button-hover-fill-color);\n",
              "  }\n",
              "\n",
              "  .colab-df-quickchart-complete:disabled,\n",
              "  .colab-df-quickchart-complete:disabled:hover {\n",
              "    background-color: var(--disabled-bg-color);\n",
              "    fill: var(--disabled-fill-color);\n",
              "    box-shadow: none;\n",
              "  }\n",
              "\n",
              "  .colab-df-spinner {\n",
              "    border: 2px solid var(--fill-color);\n",
              "    border-color: transparent;\n",
              "    border-bottom-color: var(--fill-color);\n",
              "    animation:\n",
              "      spin 1s steps(1) infinite;\n",
              "  }\n",
              "\n",
              "  @keyframes spin {\n",
              "    0% {\n",
              "      border-color: transparent;\n",
              "      border-bottom-color: var(--fill-color);\n",
              "      border-left-color: var(--fill-color);\n",
              "    }\n",
              "    20% {\n",
              "      border-color: transparent;\n",
              "      border-left-color: var(--fill-color);\n",
              "      border-top-color: var(--fill-color);\n",
              "    }\n",
              "    30% {\n",
              "      border-color: transparent;\n",
              "      border-left-color: var(--fill-color);\n",
              "      border-top-color: var(--fill-color);\n",
              "      border-right-color: var(--fill-color);\n",
              "    }\n",
              "    40% {\n",
              "      border-color: transparent;\n",
              "      border-right-color: var(--fill-color);\n",
              "      border-top-color: var(--fill-color);\n",
              "    }\n",
              "    60% {\n",
              "      border-color: transparent;\n",
              "      border-right-color: var(--fill-color);\n",
              "    }\n",
              "    80% {\n",
              "      border-color: transparent;\n",
              "      border-right-color: var(--fill-color);\n",
              "      border-bottom-color: var(--fill-color);\n",
              "    }\n",
              "    90% {\n",
              "      border-color: transparent;\n",
              "      border-bottom-color: var(--fill-color);\n",
              "    }\n",
              "  }\n",
              "</style>\n",
              "\n",
              "  <script>\n",
              "    async function quickchart(key) {\n",
              "      const quickchartButtonEl =\n",
              "        document.querySelector('#' + key + ' button');\n",
              "      quickchartButtonEl.disabled = true;  // To prevent multiple clicks.\n",
              "      quickchartButtonEl.classList.add('colab-df-spinner');\n",
              "      try {\n",
              "        const charts = await google.colab.kernel.invokeFunction(\n",
              "            'suggestCharts', [key], {});\n",
              "      } catch (error) {\n",
              "        console.error('Error during call to suggestCharts:', error);\n",
              "      }\n",
              "      quickchartButtonEl.classList.remove('colab-df-spinner');\n",
              "      quickchartButtonEl.classList.add('colab-df-quickchart-complete');\n",
              "    }\n",
              "    (() => {\n",
              "      let quickchartButtonEl =\n",
              "        document.querySelector('#df-103c6b47-1617-4d96-8e4e-153171954183 button');\n",
              "      quickchartButtonEl.style.display =\n",
              "        google.colab.kernel.accessAllowed ? 'block' : 'none';\n",
              "    })();\n",
              "  </script>\n",
              "</div>\n",
              "    </div>\n",
              "  </div>\n"
            ]
          },
          "metadata": {},
          "execution_count": 35
        }
      ],
      "source": [
        "final_data"
      ]
    },
    {
      "cell_type": "markdown",
      "metadata": {
        "id": "Kn-Cn94domEk"
      },
      "source": [
        "## Final Distribution"
      ]
    },
    {
      "cell_type": "code",
      "execution_count": 36,
      "metadata": {
        "id": "WUh3vAuunVfx",
        "outputId": "b4bbac16-21b4-47a8-c0ff-4bfb87caf066",
        "colab": {
          "base_uri": "https://localhost:8080/",
          "height": 424
        }
      },
      "outputs": [
        {
          "output_type": "execute_result",
          "data": {
            "text/plain": [
              "<Axes: ylabel='category'>"
            ]
          },
          "metadata": {},
          "execution_count": 36
        },
        {
          "output_type": "display_data",
          "data": {
            "text/plain": [
              "<Figure size 640x480 with 1 Axes>"
            ],
            "image/png": "[encoded data removed]"
          },
          "metadata": {}
        }
      ],
      "source": [
        "final_data = final_data.reset_index()\n",
        "final_data[\"category\"].value_counts().plot(kind=\"pie\")"
      ]
    },
    {
      "cell_type": "markdown",
      "metadata": {
        "id": "C3U_S-2tk04v"
      },
      "source": [
        "## Performing Transformations"
      ]
    },
    {
      "cell_type": "code",
      "execution_count": 37,
      "metadata": {
        "id": "EO0ItxTax_Za",
        "outputId": "89198aae-60ab-4311-8ce7-8f7d82f9c9e2",
        "colab": {
          "base_uri": "https://localhost:8080/",
          "height": 424
        }
      },
      "outputs": [
        {
          "output_type": "execute_result",
          "data": {
            "text/plain": [
              "      index   category                                               path\n",
              "0        34   COVID-19  covid-chestxray-dataset/images/jkms-35-e79-g00...\n",
              "1        35   COVID-19  covid-chestxray-dataset/images/jkms-35-e79-g00...\n",
              "2        36   COVID-19  covid-chestxray-dataset/images/jkms-35-e79-g00...\n",
              "3        40   COVID-19  covid-chestxray-dataset/images/1-s2.0-S0929664...\n",
              "4        41   COVID-19  covid-chestxray-dataset/images/1-s2.0-S0929664...\n",
              "...     ...        ...                                                ...\n",
              "6133   5851  PNEUMONIA  chest-xray-pneumonia/chest_xray/val/PNEUMONIA/...\n",
              "6134   5852  PNEUMONIA  chest-xray-pneumonia/chest_xray/val/PNEUMONIA/...\n",
              "6135   5853  PNEUMONIA  chest-xray-pneumonia/chest_xray/val/PNEUMONIA/...\n",
              "6136   5854  PNEUMONIA  chest-xray-pneumonia/chest_xray/val/PNEUMONIA/...\n",
              "6137   5855  PNEUMONIA  chest-xray-pneumonia/chest_xray/val/PNEUMONIA/...\n",
              "\n",
              "[6138 rows x 3 columns]"
            ],
            "text/html": [
              "\n",
              "  <div id=\"df-e30ed30f-2b5c-4c45-b9fd-f51bf40d3eaf\" class=\"colab-df-container\">\n",
              "    <div>\n",
              "<style scoped>\n",
              "    .dataframe tbody tr th:only-of-type {\n",
              "        vertical-align: middle;\n",
              "    }\n",
              "\n",
              "    .dataframe tbody tr th {\n",
              "        vertical-align: top;\n",
              "    }\n",
              "\n",
              "    .dataframe thead th {\n",
              "        text-align: right;\n",
              "    }\n",
              "</style>\n",
              "<table border=\"1\" class=\"dataframe\">\n",
              "  <thead>\n",
              "    <tr style=\"text-align: right;\">\n",
              "      <th></th>\n",
              "      <th>index</th>\n",
              "      <th>category</th>\n",
              "      <th>path</th>\n",
              "    </tr>\n",
              "  </thead>\n",
              "  <tbody>\n",
              "    <tr>\n",
              "      <th>0</th>\n",
              "      <td>34</td>\n",
              "      <td>COVID-19</td>\n",
              "      <td>covid-chestxray-dataset/images/jkms-35-e79-g00...</td>\n",
              "    </tr>\n",
              "    <tr>\n",
              "      <th>1</th>\n",
              "      <td>35</td>\n",
              "      <td>COVID-19</td>\n",
              "      <td>covid-chestxray-dataset/images/jkms-35-e79-g00...</td>\n",
              "    </tr>\n",
              "    <tr>\n",
              "      <th>2</th>\n",
              "      <td>36</td>\n",
              "      <td>COVID-19</td>\n",
              "      <td>covid-chestxray-dataset/images/jkms-35-e79-g00...</td>\n",
              "    </tr>\n",
              "    <tr>\n",
              "      <th>3</th>\n",
              "      <td>40</td>\n",
              "      <td>COVID-19</td>\n",
              "      <td>covid-chestxray-dataset/images/1-s2.0-S0929664...</td>\n",
              "    </tr>\n",
              "    <tr>\n",
              "      <th>4</th>\n",
              "      <td>41</td>\n",
              "      <td>COVID-19</td>\n",
              "      <td>covid-chestxray-dataset/images/1-s2.0-S0929664...</td>\n",
              "    </tr>\n",
              "    <tr>\n",
              "      <th>...</th>\n",
              "      <td>...</td>\n",
              "      <td>...</td>\n",
              "      <td>...</td>\n",
              "    </tr>\n",
              "    <tr>\n",
              "      <th>6133</th>\n",
              "      <td>5851</td>\n",
              "      <td>PNEUMONIA</td>\n",
              "      <td>chest-xray-pneumonia/chest_xray/val/PNEUMONIA/...</td>\n",
              "    </tr>\n",
              "    <tr>\n",
              "      <th>6134</th>\n",
              "      <td>5852</td>\n",
              "      <td>PNEUMONIA</td>\n",
              "      <td>chest-xray-pneumonia/chest_xray/val/PNEUMONIA/...</td>\n",
              "    </tr>\n",
              "    <tr>\n",
              "      <th>6135</th>\n",
              "      <td>5853</td>\n",
              "      <td>PNEUMONIA</td>\n",
              "      <td>chest-xray-pneumonia/chest_xray/val/PNEUMONIA/...</td>\n",
              "    </tr>\n",
              "    <tr>\n",
              "      <th>6136</th>\n",
              "      <td>5854</td>\n",
              "      <td>PNEUMONIA</td>\n",
              "      <td>chest-xray-pneumonia/chest_xray/val/PNEUMONIA/...</td>\n",
              "    </tr>\n",
              "    <tr>\n",
              "      <th>6137</th>\n",
              "      <td>5855</td>\n",
              "      <td>PNEUMONIA</td>\n",
              "      <td>chest-xray-pneumonia/chest_xray/val/PNEUMONIA/...</td>\n",
              "    </tr>\n",
              "  </tbody>\n",
              "</table>\n",
              "<p>6138 rows × 3 columns</p>\n",
              "</div>\n",
              "    <div class=\"colab-df-buttons\">\n",
              "\n",
              "  <div class=\"colab-df-container\">\n",
              "    <button class=\"colab-df-convert\" onclick=\"convertToInteractive('df-e30ed30f-2b5c-4c45-b9fd-f51bf40d3eaf')\"\n",
              "            title=\"Convert this dataframe to an interactive table.\"\n",
              "            style=\"display:none;\">\n",
              "\n",
              "  <svg xmlns=\"http://www.w3.org/2000/svg\" height=\"24px\" viewBox=\"0 -960 960 960\">\n",
              "    <path d=\"M120-120v-720h720v720H120Zm60-500h600v-160H180v160Zm220 220h160v-160H400v160Zm0 220h160v-160H400v160ZM180-400h160v-160H180v160Zm440 0h160v-160H620v160ZM180-180h160v-160H180v160Zm440 0h160v-160H620v160Z\"/>\n",
              "  </svg>\n",
              "    </button>\n",
              "\n",
              "  <style>\n",
              "    .colab-df-container {\n",
              "      display:flex;\n",
              "      gap: 12px;\n",
              "    }\n",
              "\n",
              "    .colab-df-convert {\n",
              "      background-color: #E8F0FE;\n",
              "      border: none;\n",
              "      border-radius: 50%;\n",
              "      cursor: pointer;\n",
              "      display: none;\n",
              "      fill: #1967D2;\n",
              "      height: 32px;\n",
              "      padding: 0 0 0 0;\n",
              "      width: 32px;\n",
              "    }\n",
              "\n",
              "    .colab-df-convert:hover {\n",
              "      background-color: #E2EBFA;\n",
              "      box-shadow: 0px 1px 2px rgba(60, 64, 67, 0.3), 0px 1px 3px 1px rgba(60, 64, 67, 0.15);\n",
              "      fill: #174EA6;\n",
              "    }\n",
              "\n",
              "    .colab-df-buttons div {\n",
              "      margin-bottom: 4px;\n",
              "    }\n",
              "\n",
              "    [theme=dark] .colab-df-convert {\n",
              "      background-color: #3B4455;\n",
              "      fill: #D2E3FC;\n",
              "    }\n",
              "\n",
              "    [theme=dark] .colab-df-convert:hover {\n",
              "      background-color: #434B5C;\n",
              "      box-shadow: 0px 1px 3px 1px rgba(0, 0, 0, 0.15);\n",
              "      filter: drop-shadow(0px 1px 2px rgba(0, 0, 0, 0.3));\n",
              "      fill: #FFFFFF;\n",
              "    }\n",
              "  </style>\n",
              "\n",
              "    <script>\n",
              "      const buttonEl =\n",
              "        document.querySelector('#df-e30ed30f-2b5c-4c45-b9fd-f51bf40d3eaf button.colab-df-convert');\n",
              "      buttonEl.style.display =\n",
              "        google.colab.kernel.accessAllowed ? 'block' : 'none';\n",
              "\n",
              "      async function convertToInteractive(key) {\n",
              "        const element = document.querySelector('#df-e30ed30f-2b5c-4c45-b9fd-f51bf40d3eaf');\n",
              "        const dataTable =\n",
              "          await google.colab.kernel.invokeFunction('convertToInteractive',\n",
              "                                                    [key], {});\n",
              "        if (!dataTable) return;\n",
              "\n",
              "        const docLinkHtml = 'Like what you see? Visit the ' +\n",
              "          '<a target=\"_blank\" href=https://colab.research.google.com/notebooks/data_table.ipynb>data table notebook</a>'\n",
              "          + ' to learn more about interactive tables.';\n",
              "        element.innerHTML = '';\n",
              "        dataTable['output_type'] = 'display_data';\n",
              "        await google.colab.output.renderOutput(dataTable, element);\n",
              "        const docLink = document.createElement('div');\n",
              "        docLink.innerHTML = docLinkHtml;\n",
              "        element.appendChild(docLink);\n",
              "      }\n",
              "    </script>\n",
              "  </div>\n",
              "\n",
              "\n",
              "<div id=\"df-ff2d48c1-0f97-4e76-9177-d7322feb4dda\">\n",
              "  <button class=\"colab-df-quickchart\" onclick=\"quickchart('df-ff2d48c1-0f97-4e76-9177-d7322feb4dda')\"\n",
              "            title=\"Suggest charts\"\n",
              "            style=\"display:none;\">\n",
              "\n",
              "<svg xmlns=\"http://www.w3.org/2000/svg\" height=\"24px\"viewBox=\"0 0 24 24\"\n",
              "     width=\"24px\">\n",
              "    <g>\n",
              "        <path d=\"M19 3H5c-1.1 0-2 .9-2 2v14c0 1.1.9 2 2 2h14c1.1 0 2-.9 2-2V5c0-1.1-.9-2-2-2zM9 17H7v-7h2v7zm4 0h-2V7h2v10zm4 0h-2v-4h2v4z\"/>\n",
              "    </g>\n",
              "</svg>\n",
              "  </button>\n",
              "\n",
              "<style>\n",
              "  .colab-df-quickchart {\n",
              "      --bg-color: #E8F0FE;\n",
              "      --fill-color: #1967D2;\n",
              "      --hover-bg-color: #E2EBFA;\n",
              "      --hover-fill-color: #174EA6;\n",
              "      --disabled-fill-color: #AAA;\n",
              "      --disabled-bg-color: #DDD;\n",
              "  }\n",
              "\n",
              "  [theme=dark] .colab-df-quickchart {\n",
              "      --bg-color: #3B4455;\n",
              "      --fill-color: #D2E3FC;\n",
              "      --hover-bg-color: #434B5C;\n",
              "      --hover-fill-color: #FFFFFF;\n",
              "      --disabled-bg-color: #3B4455;\n",
              "      --disabled-fill-color: #666;\n",
              "  }\n",
              "\n",
              "  .colab-df-quickchart {\n",
              "    background-color: var(--bg-color);\n",
              "    border: none;\n",
              "    border-radius: 50%;\n",
              "    cursor: pointer;\n",
              "    display: none;\n",
              "    fill: var(--fill-color);\n",
              "    height: 32px;\n",
              "    padding: 0;\n",
              "    width: 32px;\n",
              "  }\n",
              "\n",
              "  .colab-df-quickchart:hover {\n",
              "    background-color: var(--hover-bg-color);\n",
              "    box-shadow: 0 1px 2px rgba(60, 64, 67, 0.3), 0 1px 3px 1px rgba(60, 64, 67, 0.15);\n",
              "    fill: var(--button-hover-fill-color);\n",
              "  }\n",
              "\n",
              "  .colab-df-quickchart-complete:disabled,\n",
              "  .colab-df-quickchart-complete:disabled:hover {\n",
              "    background-color: var(--disabled-bg-color);\n",
              "    fill: var(--disabled-fill-color);\n",
              "    box-shadow: none;\n",
              "  }\n",
              "\n",
              "  .colab-df-spinner {\n",
              "    border: 2px solid var(--fill-color);\n",
              "    border-color: transparent;\n",
              "    border-bottom-color: var(--fill-color);\n",
              "    animation:\n",
              "      spin 1s steps(1) infinite;\n",
              "  }\n",
              "\n",
              "  @keyframes spin {\n",
              "    0% {\n",
              "      border-color: transparent;\n",
              "      border-bottom-color: var(--fill-color);\n",
              "      border-left-color: var(--fill-color);\n",
              "    }\n",
              "    20% {\n",
              "      border-color: transparent;\n",
              "      border-left-color: var(--fill-color);\n",
              "      border-top-color: var(--fill-color);\n",
              "    }\n",
              "    30% {\n",
              "      border-color: transparent;\n",
              "      border-left-color: var(--fill-color);\n",
              "      border-top-color: var(--fill-color);\n",
              "      border-right-color: var(--fill-color);\n",
              "    }\n",
              "    40% {\n",
              "      border-color: transparent;\n",
              "      border-right-color: var(--fill-color);\n",
              "      border-top-color: var(--fill-color);\n",
              "    }\n",
              "    60% {\n",
              "      border-color: transparent;\n",
              "      border-right-color: var(--fill-color);\n",
              "    }\n",
              "    80% {\n",
              "      border-color: transparent;\n",
              "      border-right-color: var(--fill-color);\n",
              "      border-bottom-color: var(--fill-color);\n",
              "    }\n",
              "    90% {\n",
              "      border-color: transparent;\n",
              "      border-bottom-color: var(--fill-color);\n",
              "    }\n",
              "  }\n",
              "</style>\n",
              "\n",
              "  <script>\n",
              "    async function quickchart(key) {\n",
              "      const quickchartButtonEl =\n",
              "        document.querySelector('#' + key + ' button');\n",
              "      quickchartButtonEl.disabled = true;  // To prevent multiple clicks.\n",
              "      quickchartButtonEl.classList.add('colab-df-spinner');\n",
              "      try {\n",
              "        const charts = await google.colab.kernel.invokeFunction(\n",
              "            'suggestCharts', [key], {});\n",
              "      } catch (error) {\n",
              "        console.error('Error during call to suggestCharts:', error);\n",
              "      }\n",
              "      quickchartButtonEl.classList.remove('colab-df-spinner');\n",
              "      quickchartButtonEl.classList.add('colab-df-quickchart-complete');\n",
              "    }\n",
              "    (() => {\n",
              "      let quickchartButtonEl =\n",
              "        document.querySelector('#df-ff2d48c1-0f97-4e76-9177-d7322feb4dda button');\n",
              "      quickchartButtonEl.style.display =\n",
              "        google.colab.kernel.accessAllowed ? 'block' : 'none';\n",
              "    })();\n",
              "  </script>\n",
              "</div>\n",
              "    </div>\n",
              "  </div>\n"
            ]
          },
          "metadata": {},
          "execution_count": 37
        }
      ],
      "source": [
        "final_data[\"category\"].astype(\"category\")\n",
        "final_data"
      ]
    },
    {
      "cell_type": "code",
      "source": [
        "X=final_data[\"path\"]\n",
        "y=final_data[\"category\"]\n",
        "X_train, X_test, y_train, y_test = train_test_split(\n",
        "    X, y, test_size=0.2, random_state=101, stratify=y, shuffle=True\n",
        ")\n",
        "\n",
        "X_train, X_val, y_train, y_val = train_test_split(\n",
        "    X_train, y_train, test_size=0.2, random_state=101, stratify=y_train, shuffle=True\n",
        ")"
      ],
      "metadata": {
        "id": "BlfnHUUfzQf2"
      },
      "execution_count": 38,
      "outputs": []
    },
    {
      "cell_type": "code",
      "execution_count": 39,
      "metadata": {
        "id": "qsaQ9fPVLRrv"
      },
      "outputs": [],
      "source": [
        "if not os.path.exists(\"my_data\"):\n",
        "  os.mkdir(\"my_data\")\n",
        "for folder in FOLDERS:\n",
        "  path = os.path.join(\"my_data\",folder)\n",
        "  if not os.path.exists(path):\n",
        "    os.mkdir(os.path.join(\"my_data\",folder))\n",
        "  for category in final_data['category'].unique():\n",
        "    subpath = os.path.join(path,category)\n",
        "    if not os.path.exists(subpath):\n",
        "      os.mkdir(subpath)"
      ]
    },
    {
      "cell_type": "code",
      "source": [
        "def data_migrate(dir,X,y):\n",
        "  i=0\n",
        "  for path,category in zip(X,y):\n",
        "    i=i+1\n",
        "    extension = path.split(\".\")[-1]\n",
        "    shutil.copyfile(path, os.path.join(\"my_data\",dir,category,category+\"-\"+str(i)+\".\"+extension))\n",
        "\n",
        "\n",
        "data_migrate(\"train\",X_train,y_train)\n",
        "data_migrate(\"test\",X_test,y_test)\n",
        "data_migrate(\"val\",X_val,y_val)"
      ],
      "metadata": {
        "id": "sSufLc6Dy-Eb"
      },
      "execution_count": 40,
      "outputs": []
    },
    {
      "cell_type": "markdown",
      "metadata": {
        "id": "GhrtZEXqRC__"
      },
      "source": [
        "K Nearest Neighbour Pytorch"
      ]
    },
    {
      "cell_type": "code",
      "execution_count": 41,
      "metadata": {
        "id": "vHlGrDK0QlHe"
      },
      "outputs": [],
      "source": [
        "target_size = (224,224)\n",
        "device = torch.device(\"cuda\" if torch.cuda.is_available() else \"cpu\")"
      ]
    },
    {
      "cell_type": "code",
      "execution_count": 42,
      "metadata": {
        "id": "FocyA75MTSr1"
      },
      "outputs": [],
      "source": [
        "# Get the transforms\n",
        "def load_datasets():\n",
        "\n",
        "    # Transforms for the image.\n",
        "    transform = transforms.Compose([\n",
        "                        transforms.Grayscale(),\n",
        "                        transforms.Resize(target_size),\n",
        "                        transforms.ToTensor(),\n",
        "                        transforms.Normalize((0.5,), (0.5,)),\n",
        "                        nn.Flatten()\n",
        "                ])\n",
        "\n",
        "    # Define the image folder for each of the data set types\n",
        "    trainset = datasets.ImageFolder(os.path.join(\"my_data\",\"train\"), transform=transform)\n",
        "    testset = datasets.ImageFolder(os.path.join(\"my_data\",\"test\"), transform=transform)\n",
        "    validset = datasets.ImageFolder(os.path.join(\"my_data\",\"val\"), transform=transform)\n",
        "\n",
        "\n",
        "    # Define indexes and get the subset random sample of each.\n",
        "    train_dataloader = DataLoader(trainset, batch_size=len(trainset), shuffle=True)\n",
        "    test_dataloader = DataLoader(testset, batch_size=len(testset), shuffle=True)\n",
        "    valid_dataloader = DataLoader(validset, batch_size=len(validset), shuffle=True)\n",
        "\n",
        "    # Convert data to tensors. This could be made faster.\n",
        "    x_test = []\n",
        "    y_test = []\n",
        "    for idx, (data, tar) in enumerate(test_dataloader):\n",
        "        x_test = data.squeeze()\n",
        "        y_test = tar.squeeze()\n",
        "\n",
        "    x_train = []\n",
        "    y_train = []\n",
        "    for idx, (data, tar) in enumerate(train_dataloader):\n",
        "        x_train = data.squeeze()\n",
        "        y_train = tar.squeeze()\n",
        "\n",
        "    x_test = torch.tensor(x_test, device=device)\n",
        "    y_test = torch.tensor(y_test, device=device)\n",
        "    x_train = torch.tensor(x_train, device=device)\n",
        "    y_train = torch.tensor(y_train, device=device)\n",
        "    return x_train, y_train, x_test, y_test"
      ]
    },
    {
      "cell_type": "code",
      "execution_count": 43,
      "metadata": {
        "id": "SGAW1zyTR7Eh"
      },
      "outputs": [],
      "source": [
        "def knn(x_train, y_train, x_test, k, device, log_interval=100, log=True):\n",
        "\n",
        "    # Get the amount of images, training images, and image size.\n",
        "    num_images = x_test.shape[0]\n",
        "    num_train = y_train.shape[0]\n",
        "    img_size = x_test.shape[1]\n",
        "\n",
        "    y_test = torch.zeros((num_images), device=device, dtype=torch.float)\n",
        "\n",
        "    # For each of the images in the test set\n",
        "    for test_index in range(0, num_images):\n",
        "\n",
        "        # Get the image and calculate the distance to every item in the trainset\n",
        "        test_image = x_test[test_index]\n",
        "        distances = torch.norm(x_train - test_image, dim=1)\n",
        "\n",
        "        # Get the top k indexes and get the most used index between them all\n",
        "        indexes = torch.topk(distances, k, largest=False)[1]\n",
        "        classes = torch.gather(y_train, 0, indexes)\n",
        "        mode = int(torch.mode(classes)[0])\n",
        "\n",
        "        # Save the test value in the index.\n",
        "        y_test[test_index] = mode\n",
        "\n",
        "        # Logging since with large sets it may be helpful\n",
        "        if log:\n",
        "            if test_index % log_interval == 0:\n",
        "                print(\"Currently predicting at test_index = %d\" % test_index)\n",
        "\n",
        "    return y_test"
      ]
    },
    {
      "cell_type": "code",
      "execution_count": 44,
      "metadata": {
        "id": "j8OpQnO2S59B",
        "outputId": "524a2a5e-e428-4b9d-8500-72ae39a6946d",
        "colab": {
          "base_uri": "https://localhost:8080/"
        }
      },
      "outputs": [
        {
          "output_type": "stream",
          "name": "stdout",
          "text": [
            "Loading data from folders.\n",
            "Loaded train and test with sizes: torch.Size([3928, 50176]), torch.Size([1228, 50176])\n"
          ]
        }
      ],
      "source": [
        "print(\"Loading data from folders.\")\n",
        "x_train, y_train, x_test, y_test = load_datasets()\n",
        "print(\"Loaded train and test with sizes: %s, %s\" % (str(x_train.shape), str(x_test.shape)))"
      ]
    },
    {
      "cell_type": "code",
      "source": [
        "k_values = [1, 2, 3, 4, 5, 6, 7, 8, 9, 10, 13, 25, 37]\n",
        "\n",
        "correct_vals = []\n",
        "accuracy = []\n",
        "best_k = -1\n",
        "best_correct = 0\n",
        "\n",
        "for k in k_values:\n",
        "    pred = knn(x_train, y_train, x_test, k=k, device=device, log=False)\n",
        "    correct = pred.eq(y_test.view_as(pred)).sum()\n",
        "    print(\"K = %d, Correct: %d, Accuracy: %.2f\" % (k, correct, 100. * correct / y_test.shape[0]))\n",
        "    accuracy.append(100. * correct / y_test.shape[0])"
      ],
      "metadata": {
        "id": "Eiu1QyqqdQje",
        "outputId": "086b7784-a4e7-42b4-d490-66e1b87eb1b8",
        "colab": {
          "base_uri": "https://localhost:8080/"
        }
      },
      "execution_count": 51,
      "outputs": [
        {
          "output_type": "stream",
          "name": "stdout",
          "text": [
            "K = 1, Correct: 1102, Accuracy: 89.74\n",
            "K = 2, Correct: 1101, Accuracy: 89.66\n",
            "K = 3, Correct: 1105, Accuracy: 89.98\n",
            "K = 4, Correct: 1114, Accuracy: 90.72\n",
            "K = 5, Correct: 1112, Accuracy: 90.55\n",
            "K = 6, Correct: 1123, Accuracy: 91.45\n",
            "K = 7, Correct: 1112, Accuracy: 90.55\n",
            "K = 8, Correct: 1114, Accuracy: 90.72\n",
            "K = 9, Correct: 1108, Accuracy: 90.23\n",
            "K = 10, Correct: 1118, Accuracy: 91.04\n",
            "K = 13, Correct: 1115, Accuracy: 90.80\n",
            "K = 25, Correct: 1106, Accuracy: 90.07\n",
            "K = 37, Correct: 1093, Accuracy: 89.01\n"
          ]
        }
      ]
    },
    {
      "cell_type": "code",
      "source": [
        "# Create the line plot\n",
        "plt.plot(k_values, accuracy)\n",
        "\n",
        "# Set the plot title and labels\n",
        "plt.title(\"KNN Accuracy vs. K Values\")\n",
        "plt.xlabel(\"K Value\")\n",
        "plt.ylabel(\"Accuracy\")\n",
        "\n",
        "# Show the plot\n",
        "plt.show()"
      ],
      "metadata": {
        "id": "WNs1CrtWZjU7",
        "outputId": "31f75495-c154-44f8-8762-0726ce933dc9",
        "colab": {
          "base_uri": "https://localhost:8080/",
          "height": 472
        }
      },
      "execution_count": 53,
      "outputs": [
        {
          "output_type": "display_data",
          "data": {
            "text/plain": [
              "<Figure size 640x480 with 1 Axes>"
            ],
            "image/png": "[encoded data removed]"
          },
          "metadata": {}
        }
      ]
    },
    {
      "cell_type": "code",
      "execution_count": 54,
      "metadata": {
        "id": "8dJTu_0GSN9T",
        "outputId": "2a273e04-bcea-44cc-e54b-6342f5adcdce",
        "colab": {
          "base_uri": "https://localhost:8080/"
        }
      },
      "outputs": [
        {
          "output_type": "stream",
          "name": "stdout",
          "text": [
            "Currently predicting at test_index = 0\n",
            "Currently predicting at test_index = 100\n",
            "Currently predicting at test_index = 200\n",
            "Currently predicting at test_index = 300\n",
            "Currently predicting at test_index = 400\n",
            "Currently predicting at test_index = 500\n",
            "Currently predicting at test_index = 600\n",
            "Currently predicting at test_index = 700\n",
            "Currently predicting at test_index = 800\n",
            "Currently predicting at test_index = 900\n",
            "Currently predicting at test_index = 1000\n",
            "Currently predicting at test_index = 1100\n",
            "Currently predicting at test_index = 1200\n"
          ]
        }
      ],
      "source": [
        "pred = knn(x_train, y_train, x_test, k=5, device=device)"
      ]
    },
    {
      "cell_type": "code",
      "execution_count": 46,
      "metadata": {
        "id": "AgKKgUu0T34j",
        "outputId": "438ca58d-4c97-46d3-8c24-de53cc47c4ae",
        "colab": {
          "base_uri": "https://localhost:8080/"
        }
      },
      "outputs": [
        {
          "output_type": "stream",
          "name": "stdout",
          "text": [
            "Correct predictions: 1112/1228, Accuracy: 90.553749\n"
          ]
        }
      ],
      "source": [
        "correct = pred.eq(y_test.to(device).view_as(pred)).sum()\n",
        "print(\"Correct predictions: %d/%d, Accuracy: %f\" % (correct, y_test.shape[0], 100. * correct / y_test.shape[0]))"
      ]
    },
    {
      "cell_type": "code",
      "source": [
        "from sklearn.metrics import classification_report, confusion_matrix"
      ],
      "metadata": {
        "id": "Nz-pcLYLbnzN"
      },
      "execution_count": 49,
      "outputs": []
    },
    {
      "cell_type": "code",
      "source": [
        "print(classification_report(pred,y_test))\n",
        "print(confusion_matrix(pred,y_test))"
      ],
      "metadata": {
        "id": "IePSIRRFbrJA",
        "outputId": "bd519521-d3b0-4f08-8512-21cac0187bba",
        "colab": {
          "base_uri": "https://localhost:8080/"
        }
      },
      "execution_count": 50,
      "outputs": [
        {
          "output_type": "stream",
          "name": "stdout",
          "text": [
            "              precision    recall  f1-score   support\n",
            "\n",
            "         0.0       0.80      0.96      0.87        47\n",
            "         1.0       0.74      0.91      0.82       257\n",
            "         2.0       0.97      0.90      0.94       924\n",
            "\n",
            "    accuracy                           0.91      1228\n",
            "   macro avg       0.84      0.92      0.88      1228\n",
            "weighted avg       0.92      0.91      0.91      1228\n",
            "\n",
            "[[ 45   1   1]\n",
            " [  0 235  22]\n",
            " [ 11  81 832]]\n"
          ]
        }
      ]
    },
    {
      "cell_type": "code",
      "source": [],
      "metadata": {
        "id": "4UpR72TDhvxH"
      },
      "execution_count": null,
      "outputs": []
    }
  ],
  "metadata": {
    "colab": {
      "provenance": [],
      "include_colab_link": true
    },
    "kernelspec": {
      "display_name": "Python 3",
      "name": "python3"
    },
    "language_info": {
      "name": "python"
    }
  },
  "nbformat": 4,
  "nbformat_minor": 0
}